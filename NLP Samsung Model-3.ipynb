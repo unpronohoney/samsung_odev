{
 "cells": [
  {
   "cell_type": "code",
   "execution_count": 3,
   "id": "c6f4f418",
   "metadata": {},
   "outputs": [
    {
     "name": "stdout",
     "output_type": "stream",
     "text": [
      "            Complaint Specialty\n",
      "0          baş ağrısı  Nöroloji\n",
      "1              migren  Nöroloji\n",
      "2         baş dönmesi  Nöroloji\n",
      "3          uykusuzluk  Nöroloji\n",
      "4  zihinsel yorgunluk  Nöroloji\n"
     ]
    }
   ],
   "source": [
    "import pandas as pd\n",
    "\n",
    "# Şikayetlerin varyasyonları ve genişletilmiş liste\n",
    "specialty_complaints =  {\n",
    "    \"Nöroloji\": [\"baş ağrısı\", \"migren\", \"baş dönmesi\", \"uykusuzluk\", \"zihinsel yorgunluk\", \"nöbet\", \"beyin\", \"epilepsi\", \"alzheimer\", \"parkison\"],\n",
    "    \"Cildiye\": [\"cilt döküntüsü\", \"kaşıntı\", \"deri\", \"akne\", \"sivilce\", \"güneş lekesi\", \"alerji\", \"egzama\", \"dermatit\", \"sedef\"],\n",
    "    \"Göz Hastalıkları\": [\"bulanık görme\", \"göz ağrısı\", \"göz kuruluğu\", \"görme kaybı\", \"göz enfeksiyonu\", \"katarakt\", \"glokom\", \"göz yanması\", \"gözlük\", \"göz kayması\"],\n",
    "    \"Dahiliye\": [\"kan şekeri\", \"hipertansiyon\", \"kolesterol\", \"diyabet\", \"kalp hastalıkları\", \"astım\", \"obezite\", \"tiroit\", \"yüksek tansiyon\", \"soğuk algınlığı\"],\n",
    "    \"Genel Cerrahi\": [\"karın ağrısı\", \"apandisit\", \"sindirim problemleri\", \"karaciğer hastalıkları\", \"kolesistit\", \"gastrit\", \"safra kesesi\", \"şişmanlık\", \"mide bulantısı\", \"kilo kaybı\"],\n",
    "    \"Kardiyoloji\": [\"kalp ağrısı\", \"hipertansiyon\", \"koroner arter hastalığı\", \"kalp krizi\", \"kolesterol\", \"kalp ritmi\", \"tansiyon\", \"nefes darlığı\", \"yüksek kolesterol\", \"bypass\"],\n",
    "    \"Kulak Burun Boğaz\": [\"burun tıkanıklığı\", \"sinüs enfeksiyonu\", \"boğaz ağrısı\", \"kulak ağrısı\", \"işitme kaybı\", \"zorlukla nefes almak\", \"ses kısıklığı\", \"öksürük\", \"sindirimi güçlük\", \"burun akıntısı\"],\n",
    "    \"Jinekoloji\": [\"adet düzensizliği\", \"gebelik\", \"doğum kontrolü\", \"kısırlık\", \"menopoz\", \"vajinal enfeksiyon\", \"rahim hastalıkları\", \"rahim kanseri\", \"karnı ağrısı\", \"çocuk doğurma\"],\n",
    "    \"Pediatri\": [\"çocuk sağlığı\", \"büyüme bozuklukları\", \"ateş\", \"cilt döküntüsü\", \"kulak ağrısı\", \"aşı\", \"grip\", \"zihinsel gelişim\", \"çocuk gelişimi\", \"gelişimsel gerilik\"],\n",
    "    \"Üroloji\": [\"idrar yolu enfeksiyonu\", \"sistit\", \"prostat\", \"böbrek taşı\", \"idrar kaçırma\", \"testis ağrısı\", \"idrar retansiyonu\", \"erektil disfonksiyon\", \"idrar yapma zorluğu\", \"mesane\"],\n",
    "    \"Ortopedi\": [\"sırt ağrısı\", \"eklem ağrısı\", \"kas ağrısı\", \"kemik kırığı\", \"artrit\", \"kireçlenme\", \"bacak ağrısı\", \"boyun ağrısı\", \"omuz ağrısı\", \"fiziksel tedavi\"],\n",
    "    \"Psikiyatri\": [\"depresyon\", \"anksiyete\", \"panik atak\", \"stres\", \"kaygı\", \"zihinsel sağlık\", \"intihar\", \"psikolojik destek\", \"bipolar\", \"sosyal fobi\"]\n",
    "}\n",
    "\n",
    "# Veri setini oluşturma\n",
    "data = []\n",
    "\n",
    "# Her şikayet ve ona karşılık gelen uzmanlıkları eşleştir\n",
    "for specialty, complaints_list in specialty_complaints.items():\n",
    "    for complaint in complaints_list:\n",
    "        data.append({\"Complaint\": complaint, \"Specialty\": specialty})\n",
    "\n",
    "df = pd.DataFrame(data)\n",
    "\n",
    "# Veri setini CSV dosyasına kaydetme\n",
    "df.to_csv('complaints_speciality.csv', index=False)\n",
    "\n",
    "# Veri setini inceleme\n",
    "print(df.head())\n",
    "\n"
   ]
  },
  {
   "cell_type": "code",
   "execution_count": 3,
   "id": "4700bb6b",
   "metadata": {},
   "outputs": [
    {
     "name": "stderr",
     "output_type": "stream",
     "text": [
      "Some weights of BertForSequenceClassification were not initialized from the model checkpoint at bert-base-uncased and are newly initialized: ['classifier.bias', 'classifier.weight']\n",
      "You should probably TRAIN this model on a down-stream task to be able to use it for predictions and inference.\n"
     ]
    },
    {
     "data": {
      "text/html": [
       "\n",
       "    <div>\n",
       "      \n",
       "      <progress value='2400' max='2400' style='width:300px; height:20px; vertical-align: middle;'></progress>\n",
       "      [2400/2400 11:22, Epoch 200/200]\n",
       "    </div>\n",
       "    <table border=\"1\" class=\"dataframe\">\n",
       "  <thead>\n",
       " <tr style=\"text-align: left;\">\n",
       "      <th>Step</th>\n",
       "      <th>Training Loss</th>\n",
       "    </tr>\n",
       "  </thead>\n",
       "  <tbody>\n",
       "    <tr>\n",
       "      <td>500</td>\n",
       "      <td>1.209300</td>\n",
       "    </tr>\n",
       "    <tr>\n",
       "      <td>1000</td>\n",
       "      <td>0.043100</td>\n",
       "    </tr>\n",
       "    <tr>\n",
       "      <td>1500</td>\n",
       "      <td>0.036900</td>\n",
       "    </tr>\n",
       "    <tr>\n",
       "      <td>2000</td>\n",
       "      <td>0.033300</td>\n",
       "    </tr>\n",
       "  </tbody>\n",
       "</table><p>"
      ],
      "text/plain": [
       "<IPython.core.display.HTML object>"
      ]
     },
     "metadata": {},
     "output_type": "display_data"
    },
    {
     "name": "stdout",
     "output_type": "stream",
     "text": [
      "Önerilen uzmanlık: Kulak Burun Boğaz\n"
     ]
    }
   ],
   "source": [
    "import torch\n",
    "from sklearn.model_selection import train_test_split\n",
    "from sklearn.preprocessing import LabelEncoder\n",
    "from transformers import BertTokenizer, BertForSequenceClassification, Trainer, TrainingArguments\n",
    "from datasets import Dataset\n",
    "import pandas as pd\n",
    "\n",
    "# Cihaz seçimi (GPU varsa kullan, yoksa CPU)\n",
    "device = torch.device(\"cuda\" if torch.cuda.is_available() else \"cpu\")\n",
    "\n",
    "# Veri setini yükleme\n",
    "df = pd.read_csv('complaints_speciality.csv')\n",
    "\n",
    "# Şikayet metinlerini ve uzmanlıkları ayıralım\n",
    "texts = df['Complaint'].tolist()\n",
    "labels = df['Specialty'].tolist()\n",
    "\n",
    "# Etiketlerin sayısal hale getirilmesi\n",
    "label_encoder = LabelEncoder()\n",
    "labels = label_encoder.fit_transform(labels)\n",
    "\n",
    "# Eğitim ve test setlerine ayıralım\n",
    "train_texts, val_texts, train_labels, val_labels = train_test_split(texts, labels, test_size=0.2)\n",
    "\n",
    "# BERT tokenizer'ı yükleyelim\n",
    "tokenizer = BertTokenizer.from_pretrained('bert-base-uncased')\n",
    "\n",
    "# Tokenize etme fonksiyonu\n",
    "def tokenize_function(texts):\n",
    "    return tokenizer(texts, padding=\"max_length\", truncation=True, max_length=128)\n",
    "\n",
    "# Veriyi tokenleştirerek uygun formata dönüştürme\n",
    "train_encodings = tokenize_function(train_texts)\n",
    "val_encodings = tokenize_function(val_texts)\n",
    "\n",
    "# Dataset objesi oluşturma\n",
    "train_dataset = Dataset.from_dict({\n",
    "    'input_ids': train_encodings['input_ids'],\n",
    "    'attention_mask': train_encodings['attention_mask'],\n",
    "    'labels': train_labels\n",
    "})\n",
    "\n",
    "val_dataset = Dataset.from_dict({\n",
    "    'input_ids': val_encodings['input_ids'],\n",
    "    'attention_mask': val_encodings['attention_mask'],\n",
    "    'labels': val_labels\n",
    "})\n",
    "\n",
    "# Modeli yükleyelim\n",
    "model = BertForSequenceClassification.from_pretrained('bert-base-uncased', num_labels=len(label_encoder.classes_))\n",
    "\n",
    "# Modeli doğru cihaza taşıyalım\n",
    "model.to(device)\n",
    "\n",
    "# Eğitim parametrelerini ayarlama\n",
    "training_args = TrainingArguments(\n",
    "    output_dir='./results',          # output directory\n",
    "    num_train_epochs=200,              # number of training epochs\n",
    "    per_device_train_batch_size=8,   # batch size for training\n",
    "    per_device_eval_batch_size=16,   # batch size for evaluation\n",
    "    warmup_steps=500,                # number of warmup steps for learning rate scheduler\n",
    "    weight_decay=0.01,               # strength of weight decay\n",
    "    logging_dir='./logs',            # directory for storing logs\n",
    ")\n",
    "\n",
    "# Trainer objesini oluşturma\n",
    "trainer = Trainer(\n",
    "    model=model,                         # the model to be trained\n",
    "    args=training_args,                  # training arguments\n",
    "    train_dataset=train_dataset,         # training dataset\n",
    "    eval_dataset=val_dataset             # evaluation dataset\n",
    ")\n",
    "\n",
    "# Modeli eğitme\n",
    "trainer.train()\n",
    "\n",
    "# Modeli kaydetme\n",
    "model.save_pretrained('bert_specialty_model')\n",
    "\n",
    "# Kullanıcıdan şikayet alma ve tahmin yapma\n",
    "def predict_specialty(complaint):\n",
    "    encoding = tokenizer(complaint, return_tensors='pt', padding=True, truncation=True, max_length=128)\n",
    "    input_ids = encoding['input_ids'].to(device)\n",
    "    attention_mask = encoding['attention_mask'].to(device)\n",
    "\n",
    "    # Modeli değerlendirme modunda kullanarak tahmin yapma\n",
    "    model.eval()\n",
    "    with torch.no_grad():\n",
    "        outputs = model(input_ids, attention_mask=attention_mask)\n",
    "        logits = outputs.logits\n",
    "\n",
    "    # En yüksek olasılığa sahip etiketi almak\n",
    "    predicted_label = torch.argmax(logits, dim=1).item()\n",
    "\n",
    "    # Etiketin uzmanlık karşılığını almak\n",
    "    predicted_specialty = label_encoder.inverse_transform([predicted_label])[0]\n",
    "    return predicted_specialty\n",
    "\n",
    "# Test: Kullanıcıdan şikayet almak ve tahmin yapmak\n",
    "user_complaint = \"Sürekli yorgunum\"  # Örnek şikayet\n",
    "recommended_specialty = predict_specialty(user_complaint)\n",
    "print(f\"Önerilen uzmanlık: {recommended_specialty}\")\n"
   ]
  },
  {
   "cell_type": "markdown",
   "id": "56b89838",
   "metadata": {},
   "source": [
    "Resetleme kodu"
   ]
  },
  {
   "cell_type": "code",
   "execution_count": 6,
   "id": "e8d7fd68",
   "metadata": {},
   "outputs": [],
   "source": [
    "import torch\n",
    "from transformers import BertTokenizer, BertForSequenceClassification\n",
    "from sklearn.preprocessing import LabelEncoder\n",
    "import pandas as pd\n",
    "import numpy as np\n",
    "\n",
    "# Eğitimde kullanılan veriyi tekrar oku (etiket sırasını aynı tutmak için)\n",
    "df = pd.read_csv('complaints_speciality.csv')\n",
    "labels = df['Specialty'].tolist()\n",
    "\n",
    "# Etiketleri tekrar kodla (aynı sıralamayla)\n",
    "label_encoder = LabelEncoder()\n",
    "label_encoder.fit(labels)\n",
    "\n",
    "# Tokenizer ve eğitilmiş modeli yükle\n",
    "tokenizer = BertTokenizer.from_pretrained('bert-base-uncased')\n",
    "model = BertForSequenceClassification.from_pretrained('bert_specialty_model')\n",
    "\n",
    "# Cihaza taşı\n",
    "device = torch.device(\"cuda\" if torch.cuda.is_available() else \"cpu\")\n",
    "model.to(device)\n",
    "\n",
    "def predict_specialty(complaint):\n",
    "    encoding = tokenizer(complaint, return_tensors='pt', padding=True, truncation=True, max_length=128)\n",
    "    input_ids = encoding['input_ids'].to(device)\n",
    "    attention_mask = encoding['attention_mask'].to(device)\n",
    "\n",
    "    model.eval()\n",
    "    with torch.no_grad():\n",
    "        outputs = model(input_ids, attention_mask=attention_mask)\n",
    "        logits = outputs.logits\n",
    "\n",
    "    predicted_label = torch.argmax(logits, dim=1).item()\n",
    "    predicted_specialty = label_encoder.inverse_transform([predicted_label])[0]\n",
    "    return predicted_specialty\n"
   ]
  },
  {
   "cell_type": "markdown",
   "id": "b7475a8e",
   "metadata": {},
   "source": [
    "PKL dosyasına label encoder'i kaydetme"
   ]
  },
  {
   "cell_type": "code",
   "execution_count": 8,
   "id": "7a40a3e3",
   "metadata": {},
   "outputs": [],
   "source": [
    "import pandas as pd\n",
    "from sklearn.preprocessing import LabelEncoder\n",
    "import pickle\n",
    "\n",
    "# Veriyi yükle\n",
    "df = pd.read_csv('complaints_speciality.csv')\n",
    "labels = df['Specialty'].tolist()\n",
    "\n",
    "# LabelEncoder oluştur\n",
    "label_encoder = LabelEncoder()\n",
    "label_encoder.fit(labels)\n",
    "\n",
    "# Kaydet\n",
    "with open('label_encoder.pkl', 'wb') as f:\n",
    "    pickle.dump(label_encoder, f)\n"
   ]
  },
  {
   "cell_type": "code",
   "execution_count": 7,
   "id": "58814ce0",
   "metadata": {},
   "outputs": [
    {
     "name": "stdout",
     "output_type": "stream",
     "text": [
      "Önerilen uzmanlık: Kardiyoloji\n"
     ]
    }
   ],
   "source": [
    "user_complaint = \"kalp\"  # Örnek şikayet\n",
    "recommended_specialty = predict_specialty(user_complaint)\n",
    "print(f\"Önerilen uzmanlık: {recommended_specialty}\")"
   ]
  }
 ],
 "metadata": {
  "kernelspec": {
   "display_name": "Python 3",
   "language": "python",
   "name": "python3"
  },
  "language_info": {
   "codemirror_mode": {
    "name": "ipython",
    "version": 3
   },
   "file_extension": ".py",
   "mimetype": "text/x-python",
   "name": "python",
   "nbconvert_exporter": "python",
   "pygments_lexer": "ipython3",
   "version": "3.10.4"
  }
 },
 "nbformat": 4,
 "nbformat_minor": 5
}
