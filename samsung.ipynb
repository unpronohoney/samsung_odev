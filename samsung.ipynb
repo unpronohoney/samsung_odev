{
  "cells": [
    {
      "cell_type": "code",
      "execution_count": 64,
      "metadata": {
        "colab": {
          "base_uri": "https://localhost:8080/"
        },
        "id": "gJfpUGmYQoMC",
        "outputId": "bef974a5-ad68-4794-9b4b-3dde2a962967"
      },
      "outputs": [
        {
          "name": "stdout",
          "output_type": "stream",
          "text": [
            "Requirement already satisfied: faker in c:\\python\\lib\\site-packages (37.0.0)\n",
            "Requirement already satisfied: tzdata in c:\\python\\lib\\site-packages (from faker) (2023.3)\n"
          ]
        }
      ],
      "source": [
        "import pandas as pd\n",
        "import random\n",
        "import numpy as np\n",
        "import matplotlib.pyplot as plt\n",
        "import seaborn as sns\n",
        "import random\n",
        "!pip install faker\n",
        "from faker import Faker"
      ]
    },
    {
      "cell_type": "markdown",
      "metadata": {
        "id": "siShUNcfQoMD"
      },
      "source": [
        "Faker nesnesi olusturma"
      ]
    },
    {
      "cell_type": "code",
      "execution_count": 65,
      "metadata": {
        "id": "5p4SGvINQoMD"
      },
      "outputs": [],
      "source": [
        "fake = Faker('tr_TR')"
      ]
    },
    {
      "cell_type": "markdown",
      "metadata": {
        "id": "vMk1ap2IQoME"
      },
      "source": [
        "1. Sabitler"
      ]
    },
    {
      "cell_type": "code",
      "execution_count": 66,
      "metadata": {
        "id": "PS602CxqQoME"
      },
      "outputs": [],
      "source": [
        "NUM_PATIENTS = 2000\n",
        "NUM_HOSPITALS = 16\n",
        "NUM_DOCTORS = 500\n",
        "NUM_APPOINTMENTS = 30000"
      ]
    },
    {
      "cell_type": "markdown",
      "metadata": {
        "id": "TL3IxF0_QoME"
      },
      "source": [
        "2. Hastane olusturma"
      ]
    },
    {
      "cell_type": "code",
      "execution_count": 67,
      "metadata": {
        "colab": {
          "base_uri": "https://localhost:8080/",
          "height": 206
        },
        "id": "KLI5-ERwQoME",
        "outputId": "c5470f5b-8034-43fe-8750-e48d8902198b"
      },
      "outputs": [
        {
          "data": {
            "text/html": [
              "<div>\n",
              "<style scoped>\n",
              "    .dataframe tbody tr th:only-of-type {\n",
              "        vertical-align: middle;\n",
              "    }\n",
              "\n",
              "    .dataframe tbody tr th {\n",
              "        vertical-align: top;\n",
              "    }\n",
              "\n",
              "    .dataframe thead th {\n",
              "        text-align: right;\n",
              "    }\n",
              "</style>\n",
              "<table border=\"1\" class=\"dataframe\">\n",
              "  <thead>\n",
              "    <tr style=\"text-align: right;\">\n",
              "      <th></th>\n",
              "      <th>Hospital_Name</th>\n",
              "      <th>City</th>\n",
              "    </tr>\n",
              "  </thead>\n",
              "  <tbody>\n",
              "    <tr>\n",
              "      <th>0</th>\n",
              "      <td>Koç Üniversitesi Hastanesi</td>\n",
              "      <td>İstanbul</td>\n",
              "    </tr>\n",
              "    <tr>\n",
              "      <th>1</th>\n",
              "      <td>Haseki Eğitim ve Araştırma Hastanesi</td>\n",
              "      <td>İstanbul</td>\n",
              "    </tr>\n",
              "    <tr>\n",
              "      <th>2</th>\n",
              "      <td>Şişli Hamidiye Etfal Eğitim ve Araştırma Hasta...</td>\n",
              "      <td>İstanbul</td>\n",
              "    </tr>\n",
              "    <tr>\n",
              "      <th>3</th>\n",
              "      <td>Bakırköy Dr. Sadi Konuk Eğitim ve Araştırma Ha...</td>\n",
              "      <td>İstanbul</td>\n",
              "    </tr>\n",
              "    <tr>\n",
              "      <th>4</th>\n",
              "      <td>Özel City Hospital</td>\n",
              "      <td>Ankara</td>\n",
              "    </tr>\n",
              "  </tbody>\n",
              "</table>\n",
              "</div>"
            ],
            "text/plain": [
              "                                       Hospital_Name      City\n",
              "0                         Koç Üniversitesi Hastanesi  İstanbul\n",
              "1               Haseki Eğitim ve Araştırma Hastanesi  İstanbul\n",
              "2  Şişli Hamidiye Etfal Eğitim ve Araştırma Hasta...  İstanbul\n",
              "3  Bakırköy Dr. Sadi Konuk Eğitim ve Araştırma Ha...  İstanbul\n",
              "4                                 Özel City Hospital    Ankara"
            ]
          },
          "execution_count": 67,
          "metadata": {},
          "output_type": "execute_result"
        }
      ],
      "source": [
        "# Verilen hastane ve şehir listeleri\n",
        "hospitals = [\n",
        "    \"Koç Üniversitesi Hastanesi\",\n",
        "    \"Haseki Eğitim ve Araştırma Hastanesi\",\n",
        "    \"Şişli Hamidiye Etfal Eğitim ve Araştırma Hastanesi\",\n",
        "    \"Bakırköy Dr. Sadi Konuk Eğitim ve Araştırma Hastanesi\",\n",
        "    \"Özel City Hospital\",\n",
        "    \"Ankara Bilkent Şehir Hastanesi\",\n",
        "    \"GATA Haydarpaşa Eğitim ve Araştırma Hastanesi\",\n",
        "    \"Dışkapı Yıldırım Beyazıt Eğitim ve Araştırma Hastanesi\",\n",
        "    \"Özel Ege Şehir Hastanesi\",\n",
        "    \"İzmir Atatürk Eğitim ve Araştırma Hastanesi\",\n",
        "    \"İzmir Bozyaka Eğitim ve Araştırma Hastanesi\",\n",
        "    \"İzmir Tepecik Eğitim ve Araştırma Hastanesi\",\n",
        "    \"Özel Acıbadem Bursa Hastanesi\",\n",
        "    \"Bursa Şehir Hastanesi\",\n",
        "    \"Bursa Çekirge Devlet Hastanesi\",\n",
        "    \"Bursa Yüksek İhtisas Eğitim ve Araştırma Hastanesi\"\n",
        "]\n",
        "\n",
        "cities = [\"İstanbul\", \"Ankara\", \"İzmir\", \"Bursa\"]\n",
        "\n",
        "city_hospitals = {\n",
        "    \"İstanbul\": [\n",
        "        \"Koç Üniversitesi Hastanesi\",\n",
        "        \"Haseki Eğitim ve Araştırma Hastanesi\",\n",
        "        \"Şişli Hamidiye Etfal Eğitim ve Araştırma Hastanesi\",\n",
        "        \"Bakırköy Dr. Sadi Konuk Eğitim ve Araştırma Hastanesi\"\n",
        "    ],\n",
        "    \"Ankara\": [\n",
        "        \"Özel City Hospital\",\n",
        "        \"Ankara Bilkent Şehir Hastanesi\",\n",
        "        \"GATA Haydarpaşa Eğitim ve Araştırma Hastanesi\",\n",
        "        \"Dışkapı Yıldırım Beyazıt Eğitim ve Araştırma Hastanesi\"\n",
        "    ],\n",
        "    \"İzmir\": [\n",
        "        \"Özel Ege Şehir Hastanesi\",\n",
        "        \"İzmir Atatürk Eğitim ve Araştırma Hastanesi\",\n",
        "        \"İzmir Bozyaka Eğitim ve Araştırma Hastanesi\",\n",
        "        \"İzmir Tepecik Eğitim ve Araştırma Hastanesi\"\n",
        "    ],\n",
        "    \"Bursa\": [\n",
        "        \"Özel Acıbadem Bursa Hastanesi\",\n",
        "        \"Bursa Şehir Hastanesi\",\n",
        "        \"Bursa Çekirge Devlet Hastanesi\",\n",
        "        \"Bursa Yüksek İhtisas Eğitim ve Araştırma Hastanesi\"\n",
        "    ]\n",
        "}\n",
        "\n",
        "hospital_names = []\n",
        "city_names = []\n",
        "\n",
        "for city, hospitals_in_city in city_hospitals.items():\n",
        "    for hospital in hospitals_in_city:\n",
        "        hospital_names.append(hospital)\n",
        "        city_names.append(city)\n",
        "\n",
        "hospitals_df = pd.DataFrame({\n",
        "    \"Hospital_Name\": hospital_names,\n",
        "    \"City\": city_names\n",
        "})\n",
        "\n",
        "hospitals_df.head()"
      ]
    },
    {
      "cell_type": "markdown",
      "metadata": {
        "id": "19iywg4tQoME"
      },
      "source": [
        "3. Doktor olusturma"
      ]
    },
    {
      "cell_type": "code",
      "execution_count": 68,
      "metadata": {
        "colab": {
          "base_uri": "https://localhost:8080/",
          "height": 206
        },
        "id": "kpCAdiFbQoME",
        "outputId": "8365bf44-38b4-4e34-ce7e-1e64e115a567"
      },
      "outputs": [
        {
          "data": {
            "text/html": [
              "<div>\n",
              "<style scoped>\n",
              "    .dataframe tbody tr th:only-of-type {\n",
              "        vertical-align: middle;\n",
              "    }\n",
              "\n",
              "    .dataframe tbody tr th {\n",
              "        vertical-align: top;\n",
              "    }\n",
              "\n",
              "    .dataframe thead th {\n",
              "        text-align: right;\n",
              "    }\n",
              "</style>\n",
              "<table border=\"1\" class=\"dataframe\">\n",
              "  <thead>\n",
              "    <tr style=\"text-align: right;\">\n",
              "      <th></th>\n",
              "      <th>Doctor_ID</th>\n",
              "      <th>Doctor_Name</th>\n",
              "      <th>Specialty</th>\n",
              "      <th>Hospital</th>\n",
              "    </tr>\n",
              "  </thead>\n",
              "  <tbody>\n",
              "    <tr>\n",
              "      <th>0</th>\n",
              "      <td>1</td>\n",
              "      <td>Kâmil Türk</td>\n",
              "      <td>Ortopodi</td>\n",
              "      <td>İzmir Tepecik Eğitim ve Araştırma Hastanesi</td>\n",
              "    </tr>\n",
              "    <tr>\n",
              "      <th>1</th>\n",
              "      <td>2</td>\n",
              "      <td>Yahşi Korutürk</td>\n",
              "      <td>Ortopodi</td>\n",
              "      <td>Özel City Hospital</td>\n",
              "    </tr>\n",
              "    <tr>\n",
              "      <th>2</th>\n",
              "      <td>3</td>\n",
              "      <td>Günver Erdoğan</td>\n",
              "      <td>Pediatri</td>\n",
              "      <td>Özel Acıbadem Bursa Hastanesi</td>\n",
              "    </tr>\n",
              "    <tr>\n",
              "      <th>3</th>\n",
              "      <td>4</td>\n",
              "      <td>Yazgül Sakarya</td>\n",
              "      <td>Ortopodi</td>\n",
              "      <td>İzmir Bozyaka Eğitim ve Araştırma Hastanesi</td>\n",
              "    </tr>\n",
              "    <tr>\n",
              "      <th>4</th>\n",
              "      <td>5</td>\n",
              "      <td>Yalın Soylu</td>\n",
              "      <td>Jinekoloji</td>\n",
              "      <td>Bakırköy Dr. Sadi Konuk Eğitim ve Araştırma Ha...</td>\n",
              "    </tr>\n",
              "  </tbody>\n",
              "</table>\n",
              "</div>"
            ],
            "text/plain": [
              "   Doctor_ID     Doctor_Name   Specialty  \\\n",
              "0          1      Kâmil Türk    Ortopodi   \n",
              "1          2  Yahşi Korutürk    Ortopodi   \n",
              "2          3  Günver Erdoğan    Pediatri   \n",
              "3          4  Yazgül Sakarya    Ortopodi   \n",
              "4          5     Yalın Soylu  Jinekoloji   \n",
              "\n",
              "                                            Hospital  \n",
              "0        İzmir Tepecik Eğitim ve Araştırma Hastanesi  \n",
              "1                                 Özel City Hospital  \n",
              "2                      Özel Acıbadem Bursa Hastanesi  \n",
              "3        İzmir Bozyaka Eğitim ve Araştırma Hastanesi  \n",
              "4  Bakırköy Dr. Sadi Konuk Eğitim ve Araştırma Ha...  "
            ]
          },
          "execution_count": 68,
          "metadata": {},
          "output_type": "execute_result"
        }
      ],
      "source": [
        "specialties = [\"Dahiliye\",\"Jinekoloji\",\"Pediatri\",\"Göz Hastalıkları\",\"Kulak Burun Boğaz\",\"Cildiye\",\n",
        "               \"Ortopodi\",\"Kardiyoloji\",\"Nöroloji\",\"Psikiyatri\",\"Üroloji\",\"Genel Cerrahi\"]\n",
        "doctors = [{\n",
        "    \"Doctor_ID\": i,\n",
        "    \"Doctor_Name\": fake.first_name() + \" \" + fake.last_name(),\n",
        "    \"Specialty\": np.random.choice(specialties, p=[0.18, 0.12, 0.12, 0.1,0.09,0.08,0.07,0.06,0.05,0.05,0.04,0.04]),\n",
        "    \"Hospital\": random.choice(hospitals)\n",
        "} for i in range(1, NUM_DOCTORS + 1)]\n",
        "doctors_df = pd.DataFrame(doctors)\n",
        "doctors_df.head()"
      ]
    },
    {
      "cell_type": "markdown",
      "metadata": {
        "id": "YvCWSWmXQoME"
      },
      "source": [
        "4. Hasta olusturma"
      ]
    },
    {
      "cell_type": "code",
      "execution_count": 69,
      "metadata": {
        "id": "4u5vp3ZIQoMF"
      },
      "outputs": [],
      "source": [
        "ages = np.random.normal(loc=45, scale=15, size=NUM_PATIENTS).astype(int)\n",
        "ages = np.clip(ages, 1, 90)"
      ]
    },
    {
      "cell_type": "code",
      "execution_count": 70,
      "metadata": {
        "id": "jjr-Fx18QoMF"
      },
      "outputs": [],
      "source": [
        "chronic_diseases = [\"Diyabet\", \"Hipertansiyon\", \"Astım\", \"Kalp Hastalıkları\", \"KOAH\", \"Obezite\", \"None\"]\n",
        "disease_probs = [0.12, 0.2, 0.08, 0.1, 0.05, 0.1, 0.35]"
      ]
    },
    {
      "cell_type": "code",
      "execution_count": 71,
      "metadata": {
        "id": "Iv1WYLQTQoMF"
      },
      "outputs": [],
      "source": [
        "genders = [\"Male\", \"Female\"]\n",
        "gender_probs = [0.48, 0.52]"
      ]
    },
    {
      "cell_type": "code",
      "execution_count": 72,
      "metadata": {
        "colab": {
          "base_uri": "https://localhost:8080/",
          "height": 206
        },
        "id": "YEdnR_ooQoMF",
        "outputId": "0bf075c9-7863-454b-f3f0-081bd67fb37d"
      },
      "outputs": [
        {
          "data": {
            "text/html": [
              "<div>\n",
              "<style scoped>\n",
              "    .dataframe tbody tr th:only-of-type {\n",
              "        vertical-align: middle;\n",
              "    }\n",
              "\n",
              "    .dataframe tbody tr th {\n",
              "        vertical-align: top;\n",
              "    }\n",
              "\n",
              "    .dataframe thead th {\n",
              "        text-align: right;\n",
              "    }\n",
              "</style>\n",
              "<table border=\"1\" class=\"dataframe\">\n",
              "  <thead>\n",
              "    <tr style=\"text-align: right;\">\n",
              "      <th></th>\n",
              "      <th>Patient_ID</th>\n",
              "      <th>Age</th>\n",
              "      <th>Gender</th>\n",
              "      <th>Chronic_Disease</th>\n",
              "    </tr>\n",
              "  </thead>\n",
              "  <tbody>\n",
              "    <tr>\n",
              "      <th>0</th>\n",
              "      <td>1</td>\n",
              "      <td>27</td>\n",
              "      <td>Female</td>\n",
              "      <td>None</td>\n",
              "    </tr>\n",
              "    <tr>\n",
              "      <th>1</th>\n",
              "      <td>2</td>\n",
              "      <td>37</td>\n",
              "      <td>Male</td>\n",
              "      <td>Hipertansiyon</td>\n",
              "    </tr>\n",
              "    <tr>\n",
              "      <th>2</th>\n",
              "      <td>3</td>\n",
              "      <td>59</td>\n",
              "      <td>Male</td>\n",
              "      <td>None</td>\n",
              "    </tr>\n",
              "    <tr>\n",
              "      <th>3</th>\n",
              "      <td>4</td>\n",
              "      <td>63</td>\n",
              "      <td>Male</td>\n",
              "      <td>None</td>\n",
              "    </tr>\n",
              "    <tr>\n",
              "      <th>4</th>\n",
              "      <td>5</td>\n",
              "      <td>41</td>\n",
              "      <td>Female</td>\n",
              "      <td>Diyabet</td>\n",
              "    </tr>\n",
              "  </tbody>\n",
              "</table>\n",
              "</div>"
            ],
            "text/plain": [
              "   Patient_ID  Age  Gender Chronic_Disease\n",
              "0           1   27  Female            None\n",
              "1           2   37    Male   Hipertansiyon\n",
              "2           3   59    Male            None\n",
              "3           4   63    Male            None\n",
              "4           5   41  Female         Diyabet"
            ]
          },
          "execution_count": 72,
          "metadata": {},
          "output_type": "execute_result"
        }
      ],
      "source": [
        "patients = [{\n",
        "    \"Patient_ID\": i,\n",
        "    \"Age\": ages[i-1],\n",
        "    \"Gender\": np.random.choice(genders, p=gender_probs),\n",
        "    \"Chronic_Disease\": np.random.choice(chronic_diseases, p=disease_probs)\n",
        "} for i in range(1, NUM_PATIENTS + 1)]\n",
        "patients_df = pd.DataFrame(patients)\n",
        "patients_df.head()"
      ]
    },
    {
      "cell_type": "markdown",
      "metadata": {
        "id": "LUy7212yQoMF"
      },
      "source": [
        "5. Randevuları olusturma"
      ]
    },
    {
      "cell_type": "code",
      "execution_count": 73,
      "metadata": {
        "id": "NGgx8SHPQoMF"
      },
      "outputs": [],
      "source": [
        "statuses = [\"Completed\", \"Cancelled\", \"Missed\"]"
      ]
    },
    {
      "cell_type": "code",
      "execution_count": 74,
      "metadata": {
        "id": "xSqVsW2BaMJH"
      },
      "outputs": [],
      "source": [
        "def generate_appointment_time():\n",
        "    hour = random.randint(8, 16)  # 08:00 - 16:45 arasında başlat\n",
        "    minute = random.choice([0, 15, 30, 45])\n",
        "    return f\"{hour:02d}:{minute:02d}\""
      ]
    },
    {
      "cell_type": "code",
      "execution_count": 75,
      "metadata": {},
      "outputs": [],
      "source": [
        "def generate_status_probs(patient_info, doc_info, appointment_time):\n",
        "    completion_prob = 0.75\n",
        "    cancellation_prob = 0.1\n",
        "    missed_prob = 0.15\n",
        "\n",
        "    if patient_info['Age'] > 60:\n",
        "        completion_prob -= 0.15\n",
        "        cancellation_prob += 0.05\n",
        "        missed_prob += 0.1\n",
        "    elif patient_info['Age'] < 25:\n",
        "        completion_prob += 0.05\n",
        "        missed_prob -= 0.05\n",
        "\n",
        "    if patient_info['Chronic_Disease'] == \"Diyabet\":\n",
        "        completion_prob += 0.04\n",
        "        cancellation_prob -= 0.025\n",
        "        missed_prob -= 0.015\n",
        "    elif patient_info['Chronic_Disease'] == \"KOAH\":\n",
        "        completion_prob -= 0.03\n",
        "        cancellation_prob += 0.01\n",
        "        missed_prob += 0.02\n",
        "\n",
        "    if doc_info['Specialty'] == \"Kardiyoloji\":\n",
        "        completion_prob -= 0.1\n",
        "        missed_prob += 0.1\n",
        "    elif doc_info['Specialty'] == \"Pediatri\":\n",
        "        completion_prob += 0.1\n",
        "        cancellation_prob -= 0.04\n",
        "        missed_prob -= 0.06\n",
        "\n",
        "    if patient_info['Gender'] == 'Female' and doc_info['Specialty'] == 'Jinekoloji':\n",
        "        completion_prob += 0.05\n",
        "        cancellation_prob -= 0.015\n",
        "        missed_prob -= 0.035\n",
        "\n",
        "    hour = int(appointment_time.split(\":\")[0])\n",
        "    if hour < 12:\n",
        "        completion_prob -= 0.03\n",
        "        cancellation_prob -= 0.07\n",
        "        missed_prob += 0.1\n",
        "    else:\n",
        "        completion_prob += 0.03\n",
        "        missed_prob += 0.02\n",
        "        completion_prob -= 0.05\n",
        "\n",
        "    # Negatif olasılık varsa sıfıra çekelim\n",
        "    completion_prob = max(0, completion_prob)\n",
        "    cancellation_prob = max(0, cancellation_prob)\n",
        "    missed_prob = max(0, missed_prob)\n",
        "\n",
        "    # Eğer hepsi sıfırlandıysa, default ayarla\n",
        "    if (completion_prob + cancellation_prob + missed_prob) == 0:\n",
        "        completion_prob, cancellation_prob, missed_prob = 0.7, 0.2, 0.1\n",
        "\n",
        "    # Normalizasyon (toplam 1 olsun)\n",
        "    total = completion_prob + cancellation_prob + missed_prob\n",
        "    completion_prob /= total\n",
        "    cancellation_prob /= total\n",
        "    missed_prob /= total\n",
        "\n",
        "    return [completion_prob, cancellation_prob, missed_prob]"
      ]
    },
    {
      "cell_type": "markdown",
      "metadata": {},
      "source": [
        "Doktoru Tekrar Tercih Etme"
      ]
    },
    {
      "cell_type": "code",
      "execution_count": 76,
      "metadata": {
        "colab": {
          "base_uri": "https://localhost:8080/",
          "height": 206
        },
        "id": "p5x0F8K5QoMG",
        "outputId": "59e23333-dc43-4c0b-d216-cca2c72da91a"
      },
      "outputs": [
        {
          "data": {
            "text/html": [
              "<div>\n",
              "<style scoped>\n",
              "    .dataframe tbody tr th:only-of-type {\n",
              "        vertical-align: middle;\n",
              "    }\n",
              "\n",
              "    .dataframe tbody tr th {\n",
              "        vertical-align: top;\n",
              "    }\n",
              "\n",
              "    .dataframe thead th {\n",
              "        text-align: right;\n",
              "    }\n",
              "</style>\n",
              "<table border=\"1\" class=\"dataframe\">\n",
              "  <thead>\n",
              "    <tr style=\"text-align: right;\">\n",
              "      <th></th>\n",
              "      <th>Appointment_ID</th>\n",
              "      <th>Patient_ID</th>\n",
              "      <th>Doctor_ID</th>\n",
              "      <th>Hospital</th>\n",
              "      <th>Date</th>\n",
              "      <th>Time</th>\n",
              "      <th>Status</th>\n",
              "      <th>Doctor_Choice</th>\n",
              "      <th>Doctor_Choice_Num</th>\n",
              "    </tr>\n",
              "  </thead>\n",
              "  <tbody>\n",
              "    <tr>\n",
              "      <th>0</th>\n",
              "      <td>1</td>\n",
              "      <td>1998</td>\n",
              "      <td>313</td>\n",
              "      <td>İzmir Tepecik Eğitim ve Araştırma Hastanesi</td>\n",
              "      <td>2024-08-01</td>\n",
              "      <td>10:00</td>\n",
              "      <td>Completed</td>\n",
              "      <td>Yes</td>\n",
              "      <td>1</td>\n",
              "    </tr>\n",
              "    <tr>\n",
              "      <th>1</th>\n",
              "      <td>2</td>\n",
              "      <td>527</td>\n",
              "      <td>229</td>\n",
              "      <td>Özel Acıbadem Bursa Hastanesi</td>\n",
              "      <td>2024-12-04</td>\n",
              "      <td>12:45</td>\n",
              "      <td>Cancelled</td>\n",
              "      <td>---</td>\n",
              "      <td>2</td>\n",
              "    </tr>\n",
              "    <tr>\n",
              "      <th>2</th>\n",
              "      <td>3</td>\n",
              "      <td>325</td>\n",
              "      <td>93</td>\n",
              "      <td>Özel Ege Şehir Hastanesi</td>\n",
              "      <td>2024-12-26</td>\n",
              "      <td>12:15</td>\n",
              "      <td>Completed</td>\n",
              "      <td>Yes</td>\n",
              "      <td>1</td>\n",
              "    </tr>\n",
              "    <tr>\n",
              "      <th>3</th>\n",
              "      <td>4</td>\n",
              "      <td>1797</td>\n",
              "      <td>420</td>\n",
              "      <td>Bursa Çekirge Devlet Hastanesi</td>\n",
              "      <td>2024-11-12</td>\n",
              "      <td>09:30</td>\n",
              "      <td>Missed</td>\n",
              "      <td>---</td>\n",
              "      <td>2</td>\n",
              "    </tr>\n",
              "    <tr>\n",
              "      <th>4</th>\n",
              "      <td>5</td>\n",
              "      <td>407</td>\n",
              "      <td>179</td>\n",
              "      <td>Dışkapı Yıldırım Beyazıt Eğitim ve Araştırma H...</td>\n",
              "      <td>2024-10-09</td>\n",
              "      <td>15:45</td>\n",
              "      <td>Completed</td>\n",
              "      <td>Yes</td>\n",
              "      <td>1</td>\n",
              "    </tr>\n",
              "  </tbody>\n",
              "</table>\n",
              "</div>"
            ],
            "text/plain": [
              "   Appointment_ID  Patient_ID  Doctor_ID  \\\n",
              "0               1        1998        313   \n",
              "1               2         527        229   \n",
              "2               3         325         93   \n",
              "3               4        1797        420   \n",
              "4               5         407        179   \n",
              "\n",
              "                                            Hospital        Date   Time  \\\n",
              "0        İzmir Tepecik Eğitim ve Araştırma Hastanesi  2024-08-01  10:00   \n",
              "1                      Özel Acıbadem Bursa Hastanesi  2024-12-04  12:45   \n",
              "2                           Özel Ege Şehir Hastanesi  2024-12-26  12:15   \n",
              "3                     Bursa Çekirge Devlet Hastanesi  2024-11-12  09:30   \n",
              "4  Dışkapı Yıldırım Beyazıt Eğitim ve Araştırma H...  2024-10-09  15:45   \n",
              "\n",
              "      Status Doctor_Choice  Doctor_Choice_Num  \n",
              "0  Completed           Yes                  1  \n",
              "1  Cancelled           ---                  2  \n",
              "2  Completed           Yes                  1  \n",
              "3     Missed           ---                  2  \n",
              "4  Completed           Yes                  1  "
            ]
          },
          "execution_count": 76,
          "metadata": {},
          "output_type": "execute_result"
        }
      ],
      "source": [
        "# Hasta bazlı tercih edilen doktorları saklayacak bir sözlük\n",
        "patient_preferred_doctors = {}\n",
        "\n",
        "appointments = []\n",
        "for i in range(1, NUM_APPOINTMENTS + 1):\n",
        "    doc_id = random.randint(1, NUM_DOCTORS)\n",
        "    doc_info = doctors_df.loc[doctors_df['Doctor_ID'] == doc_id].iloc[0]\n",
        "\n",
        "    patient_id = random.randint(1, NUM_PATIENTS)\n",
        "    # Hastaların ve doktorların etkileşimlerine dayalı randevu durumu atama\n",
        "    patient_info = patients_df.loc[patients_df['Patient_ID'] == random.randint(1, NUM_PATIENTS)].iloc[0]\n",
        "\n",
        "    time = generate_appointment_time()\n",
        "    \n",
        "    status_prob = generate_status_probs(patient_info, doc_info, time)\n",
        "\n",
        "    status = np.random.choice(statuses, p=status_prob)\n",
        "\n",
        "    choice = \"---\"  # Başlangıçta boş\n",
        "\n",
        "    if status == \"Completed\":\n",
        "        # Önceden bu doktoru tercih etmiş mi?\n",
        "        previous_choice = patient_preferred_doctors.get(patient_id, set())\n",
        "\n",
        "        if doc_id in previous_choice:\n",
        "            # Daha önce bu doktoru tercih ettiyse %90 ihtimalle \"Yes\"\n",
        "            if random.random() < 0.9:\n",
        "                choice = \"Yes\"\n",
        "            else:\n",
        "                choice = \"No\"\n",
        "        else:\n",
        "            # İlk defa bu doktora gidiyorsa %50 ihtimalle \"Yes\"\n",
        "            if random.random() < 0.5:\n",
        "                choice = \"Yes\"\n",
        "            else:\n",
        "                choice = \"No\"\n",
        "\n",
        "        # Eğer bu randevuda \"Yes\" dediyse bu doktoru tercih listesine ekle\n",
        "        if choice == \"Yes\":\n",
        "            if patient_id in patient_preferred_doctors:\n",
        "                patient_preferred_doctors[patient_id].add(doc_id)\n",
        "            else:\n",
        "                patient_preferred_doctors[patient_id] = {doc_id}\n",
        "\n",
        "    choice_num = {\"Yes\": 1, \"No\": 0, \"---\": 2}[choice]\n",
        "\n",
        "    appointments.append({\n",
        "        \"Appointment_ID\": i,\n",
        "        \"Patient_ID\": random.randint(1, NUM_PATIENTS),\n",
        "        \"Doctor_ID\": doc_info['Doctor_ID'],\n",
        "        \"Hospital\": doc_info['Hospital'],\n",
        "        \"Date\": fake.date_between(start_date=\"-1y\", end_date=\"today\"),\n",
        "        \"Time\": time,\n",
        "        \"Status\": status,\n",
        "        \"Doctor_Choice\": choice,\n",
        "        \"Doctor_Choice_Num\" : choice_num\n",
        "    })\n",
        "\n",
        "appointments_df = pd.DataFrame(appointments)\n",
        "appointments_df.head()"
      ]
    },
    {
      "cell_type": "markdown",
      "metadata": {
        "id": "P2-bN6_-QoMG"
      },
      "source": [
        "6. Kronik hastalik dagilim grafigi"
      ]
    },
    {
      "cell_type": "code",
      "execution_count": 77,
      "metadata": {
        "colab": {
          "base_uri": "https://localhost:8080/",
          "height": 564
        },
        "id": "XxtcIuCMQoMG",
        "outputId": "d7b586db-b847-4035-a368-f8640674f56c"
      },
      "outputs": [
        {
          "data": {
            "image/png": "[encoded data removed]",
            "text/plain": [
              "<Figure size 1200x600 with 1 Axes>"
            ]
          },
          "metadata": {},
          "output_type": "display_data"
        }
      ],
      "source": [
        "plt.figure(figsize=(12, 6))\n",
        "sns.countplot(data=patients_df, x=\"Chronic_Disease\", order=patients_df[\"Chronic_Disease\"].value_counts().index)\n",
        "plt.title(\"Kronik Hastalik Dagilimi\")\n",
        "plt.show()"
      ]
    },
    {
      "cell_type": "markdown",
      "metadata": {
        "id": "la6MfSIpQoMG"
      },
      "source": [
        "7. Randevu durumu dagilim grafigi"
      ]
    },
    {
      "cell_type": "code",
      "execution_count": 78,
      "metadata": {
        "colab": {
          "base_uri": "https://localhost:8080/",
          "height": 564
        },
        "id": "AElgFI3oQoMG",
        "outputId": "5d5097b9-b481-4ab1-cbbb-6a95d307d2f7"
      },
      "outputs": [
        {
          "data": {
            "image/png": "[encoded data removed]",
            "text/plain": [
              "<Figure size 1200x600 with 1 Axes>"
            ]
          },
          "metadata": {},
          "output_type": "display_data"
        }
      ],
      "source": [
        "plt.figure(figsize=(12, 6))\n",
        "sns.countplot(data=appointments_df, x=\"Status\", order=appointments_df[\"Status\"].value_counts().index)\n",
        "plt.title(\"Randevu Durumu Dagilimi\")\n",
        "plt.show()"
      ]
    },
    {
      "cell_type": "markdown",
      "metadata": {
        "id": "rlUECEWcQoMG"
      },
      "source": [
        "8. Hasta yas dagilimi grafigi"
      ]
    },
    {
      "cell_type": "code",
      "execution_count": 79,
      "metadata": {
        "colab": {
          "base_uri": "https://localhost:8080/",
          "height": 564
        },
        "id": "4wtCGWDoQoMG",
        "outputId": "b33d4864-ebbc-4e0a-fbad-c0ec6dc4c567"
      },
      "outputs": [
        {
          "data": {
            "image/png": "[encoded data removed]",
            "text/plain": [
              "<Figure size 1200x600 with 1 Axes>"
            ]
          },
          "metadata": {},
          "output_type": "display_data"
        }
      ],
      "source": [
        "plt.figure(figsize=(12, 6))\n",
        "sns.histplot(patients_df[\"Age\"], bins=20, kde=True)\n",
        "plt.title(\"Hasta Yas Dagilimi\")\n",
        "plt.xlabel(\"Yas\")\n",
        "plt.ylabel(\"Hasta Sayisi\")\n",
        "plt.show()"
      ]
    },
    {
      "cell_type": "markdown",
      "metadata": {
        "id": "cPCvl-9_anP_"
      },
      "source": [
        "9. En Çok Randevu Alan Branşlar ve Doktorlar"
      ]
    },
    {
      "cell_type": "code",
      "execution_count": 80,
      "metadata": {
        "colab": {
          "base_uri": "https://localhost:8080/",
          "height": 564
        },
        "id": "4jQj74AsakQL",
        "outputId": "f9791da2-663d-4a69-87f4-8212bb0dbe82"
      },
      "outputs": [
        {
          "data": {
            "image/png": "[encoded data removed]",
            "text/plain": [
              "<Figure size 1000x600 with 1 Axes>"
            ]
          },
          "metadata": {},
          "output_type": "display_data"
        }
      ],
      "source": [
        "merged_df = appointments_df.merge(doctors_df, on=\"Doctor_ID\")\n",
        "plt.figure(figsize=(10,6))\n",
        "sns.countplot(data=merged_df, y=\"Specialty\", order=merged_df[\"Specialty\"].value_counts().index)\n",
        "plt.title(\"Branşa Göre Randevu Sayısı\")\n",
        "plt.xlabel(\"Randevu Sayısı\")\n",
        "plt.ylabel(\"Branş\")\n",
        "plt.show()"
      ]
    },
    {
      "cell_type": "code",
      "execution_count": 81,
      "metadata": {
        "colab": {
          "base_uri": "https://localhost:8080/"
        },
        "id": "LIvN-RNxa93P",
        "outputId": "fad731ab-a80c-482d-e07b-f7acbe65160f"
      },
      "outputs": [
        {
          "name": "stdout",
          "output_type": "stream",
          "text": [
            "En Çok Randevu Alan 10 Doktor:\n",
            " Doctor_Name\n",
            "Huzuri Türk           83\n",
            "Sidar Fırat           83\n",
            "Ayyaruk Kısakürek     83\n",
            "Beste Alemdar         82\n",
            "Melûl Akar            81\n",
            "Çelikkan İhsanoğlu    79\n",
            "Aykutalp Türk         78\n",
            "Veis İhsanoğlu        77\n",
            "Baydu Türk            75\n",
            "Omaca Dumanlı         75\n",
            "Name: count, dtype: int64\n"
          ]
        }
      ],
      "source": [
        "top_docs = merged_df[\"Doctor_Name\"].value_counts().head(10)\n",
        "print(\"En Çok Randevu Alan 10 Doktor:\\n\", top_docs)"
      ]
    },
    {
      "cell_type": "markdown",
      "metadata": {
        "id": "fLYmzjLvazXR"
      },
      "source": [
        "10. Birden fazla randevusu olan hasta bilgisi"
      ]
    },
    {
      "cell_type": "code",
      "execution_count": 82,
      "metadata": {
        "colab": {
          "base_uri": "https://localhost:8080/"
        },
        "id": "AzukG5Nea7uc",
        "outputId": "9b9911dc-e926-4356-e18b-26e2de720212"
      },
      "outputs": [
        {
          "name": "stdout",
          "output_type": "stream",
          "text": [
            "Birden fazla randevusu olan hasta sayısı: 2000\n"
          ]
        }
      ],
      "source": [
        "repeat_patients = appointments_df[\"Patient_ID\"].value_counts()\n",
        "repeat_count = (repeat_patients > 1).sum()\n",
        "print(f\"Birden fazla randevusu olan hasta sayısı: {repeat_count}\")"
      ]
    },
    {
      "cell_type": "markdown",
      "metadata": {
        "id": "pbDmsZklQoMH"
      },
      "source": [
        "11. CSV olarak kaydetme"
      ]
    },
    {
      "cell_type": "code",
      "execution_count": 83,
      "metadata": {
        "id": "HPvR_695QoMH"
      },
      "outputs": [],
      "source": [
        "patients_df.to_csv(\"patients.csv\", index=False, encoding='utf-8-sig')\n",
        "doctors_df.to_csv(\"doctors.csv\", index=False, encoding='utf-8-sig')\n",
        "appointments_df.to_csv(\"appointments.csv\", index=False, encoding='utf-8-sig')"
      ]
    },
    {
      "cell_type": "code",
      "execution_count": 84,
      "metadata": {
        "id": "ze7zJzSRQoMH",
        "outputId": "e135be89-6bdf-4fa8-90c2-1e2e5effc82d"
      },
      "outputs": [
        {
          "name": "stdout",
          "output_type": "stream",
          "text": [
            "Ornek veri setleri olusturuldu: patients.csv, doctors.csv, appointments.csv\n"
          ]
        }
      ],
      "source": [
        "print(\"Ornek veri setleri olusturuldu: patients.csv, doctors.csv, appointments.csv\")"
      ]
    }
  ],
  "metadata": {
    "colab": {
      "provenance": []
    },
    "kernelspec": {
      "display_name": "Python 3",
      "language": "python",
      "name": "python3"
    },
    "language_info": {
      "codemirror_mode": {
        "name": "ipython",
        "version": 3
      },
      "file_extension": ".py",
      "mimetype": "text/x-python",
      "name": "python",
      "nbconvert_exporter": "python",
      "pygments_lexer": "ipython3",
      "version": "3.10.4"
    }
  },
  "nbformat": 4,
  "nbformat_minor": 0
}
